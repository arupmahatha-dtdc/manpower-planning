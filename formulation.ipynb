{
 "cells": [
  {
   "cell_type": "code",
   "execution_count": 1,
   "id": "b8e8164b",
   "metadata": {},
   "outputs": [],
   "source": [
    "import math\n",
    "\n",
    "def roundup(x, digits=0):\n",
    "    factor = 10 ** digits\n",
    "    return math.ceil(x * factor) / factor\n",
    "\n",
    "# All formulas rewritten in terms of column names (no A, B, C, ... before =)\n",
    "formulas = {\n",
    "    'in_avg_wt_cn': \"row['in_ndx_vol_wt'] / row['in_ndx_out_vol']\",\n",
    "    'out_avg_wt_cn': \"row['out_ndx_vol_wt'] / row['out_ndx_out_vol']\",\n",
    "    'packet': \"max(row['in_docs'], row['out_docs']) / 15\",\n",
    "    'bag_doc': \"(max(row['in_docs'], row['out_docs']) / 15) / 15\",\n",
    "    'vol_bag_non_doc': \"max(row['in_ndx_out_vol'], row['out_ndx_out_vol']) / 13\",\n",
    "    'wt_bag_non_doc': \"max(row['in_ndx_vol_wt'], row['out_ndx_vol_wt']) / 25\",\n",
    "    'out_per_day_docs': \"roundup(row['out_docs'] / 25, 0)\",\n",
    "    'out_per_day_non_docs': \"roundup(row['out_non_docs'] / 25, 0)\",\n",
    "    'out_per_day_air': \"roundup(row['out_air'] / 25, 0)\",\n",
    "    'out_per_day_surface': \"roundup(row['out_surface'] / 25, 0)\",\n",
    "    'out_per_day_ndx_out_vol': \"roundup(row['out_ndx_out_vol'] / 25, 0)\",\n",
    "    'out_per_day_ndx_vol_wt': \"roundup(row['out_ndx_vol_wt'] / 25, 0)\",\n",
    "    'in_per_day_docs': \"roundup(row['in_docs'] / 25, 0)\",\n",
    "    'in_per_day_non_docs': \"roundup(row['in_non_docs'] / 25, 0)\",\n",
    "    'in_per_day_air': \"roundup(row['in_air'] / 25, 0)\",\n",
    "    'in_per_day_surface': \"roundup(row['in_surface'] / 25, 0)\",\n",
    "    'in_per_day_ndx_out_vol': \"roundup(row['in_ndx_out_vol'] / 25, 0)\",\n",
    "    'in_per_day_ndx_vol_wt': \"roundup(row['in_ndx_vol_wt'] / 25, 0)\",\n",
    "    'per_day_ndx': \"max(row['out_per_day_non_docs'], row['in_per_day_non_docs'])\",\n",
    "    'per_day_dox': \"max(row['out_per_day_docs'], row['in_per_day_docs'])\",\n",
    "    'per_day_packet': \"row['packet'] / 25\",\n",
    "    'per_day_bag_doc': \"row['bag_doc'] / 25\",\n",
    "    'per_day_bag_non_doc': \"max(row['vol_bag_non_doc'], row['wt_bag_non_doc']) / 25\",\n",
    "    'per_day_air': \"row['out_per_day_air'] / 12\",\n",
    "    'cd_unit': \"(row['per_day_bag_doc'] + row['per_day_bag_non_doc']) * 35 / 3600\",\n",
    "    'with_sorter_sorter_unit': \"20.16 * row['per_day_ndx'] * 0.55 / 3600\",\n",
    "    'with_sorter_non_cony': \"(row['with_sorter_sorter_unit'] * 0.3 * 1.5) / 0.55\",\n",
    "    'manual_sorting_units': \"row['per_day_ndx'] * 31.1 / 3600\",\n",
    "    'skidder_unit': \"0.1 * (sum([row['cd_unit'], row['with_sorter_sorter_unit'], row['with_sorter_non_cony'], row['manual_sorting_units'], row['xray_unit'], row['air_unit'], row['surface_unit'], row['doc_unit'], row['exception_han_unit']]))\",\n",
    "    'xray_unit': \"row['per_day_air'] * 15 / 3600\",\n",
    "    'air_unit': \"row['per_day_air'] * 38 / 3600\",\n",
    "    'surface_unit': \"((row['per_day_bag_doc'] + row['per_day_bag_non_doc']) - row['per_day_air']) * 38 / 3600\",\n",
    "    'doc_unit': \"(0.6 * row['per_day_dox'] * 10.02222222) / 3600\",\n",
    "    'exception_han_unit': \"0.05 * 30 * row['per_day_ndx'] / 3600\",\n",
    "    'total': \"1.2 * (sum([row['cd_unit'], row['with_sorter_sorter_unit'], row['with_sorter_non_cony'], row['manual_sorting_units'], row['skidder_unit'], row['xray_unit'], row['air_unit'], row['surface_unit'], row['doc_unit'], row['exception_han_unit']]) - row['manual_sorting_units'])\",\n",
    "    'manpower_in_units_cd_unit': \"roundup(row['cd_unit'] * 1.25 / row['at'], 0)\",\n",
    "    'manpower_in_units_with_sorter_sorter_unit': \"roundup(row['with_sorter_sorter_unit'] * 1.25 / row['at'], 0)\",\n",
    "    'manpower_in_units_with_sorter_non_cony': \"roundup(row['with_sorter_non_cony'] * 1.25 / row['at'], 0)\",\n",
    "    'manpower_in_units_with_no_sorter_manual_sorting_units': \"roundup(row['manual_sorting_units'] * 1.25 / row['at'], 0)\",\n",
    "    'manpower_in_units_skidder_unit': \"roundup(row['skidder_unit'] * 1.25 / row['at'], 0)\",\n",
    "    'manpower_in_units_xray_unit': \"roundup(row['xray_unit'] * 1.25 / row['at'], 0)\",\n",
    "    'manpower_in_units_air_unit': \"roundup(row['air_unit'] * 1.25 / row['at'], 0)\",\n",
    "    'manpower_in_units_surface_unit': \"roundup(row['surface_unit'] * 1.25 / row['at'], 0)\",\n",
    "    'manpower_in_units_doc_unit': \"roundup(row['doc_unit'] * 1.25 / row['at'], 0)\",\n",
    "    'manpower_in_units_exception_han_unit': \"roundup(row['exception_han_unit'] * 1.25 / row['at'], 0)\",\n",
    "    'manpower_with_sorter': \"sum([row['manpower_in_units_cd_unit'], row['manpower_in_units_with_sorter_sorter_unit'], row['manpower_in_units_with_sorter_non_cony'], row['manpower_in_units_with_no_sorter_manual_sorting_units'], row['manpower_in_units_skidder_unit'], row['manpower_in_units_xray_unit'], row['manpower_in_units_air_unit'], row['manpower_in_units_surface_unit'], row['manpower_in_units_doc_unit'], row['manpower_in_units_exception_han_unit']]) - row['manpower_in_units_with_no_sorter_manual_sorting_units']\",\n",
    "    'manpower_without_sorter': \"sum([row['manpower_in_units_cd_unit'], row['manpower_in_units_with_sorter_sorter_unit'], row['manpower_in_units_with_sorter_non_cony'], row['manpower_in_units_with_no_sorter_manual_sorting_units'], row['manpower_in_units_skidder_unit'], row['manpower_in_units_xray_unit'], row['manpower_in_units_air_unit'], row['manpower_in_units_surface_unit'], row['manpower_in_units_doc_unit'], row['manpower_in_units_exception_han_unit']]) - row['manpower_in_units_with_sorter_sorter_unit'] - row['manpower_in_units_with_sorter_non_cony']\"\n",
    "}"
   ]
  },
  {
   "cell_type": "code",
   "execution_count": null,
   "id": "8555ab3b",
   "metadata": {},
   "outputs": [],
   "source": []
  }
 ],
 "metadata": {
  "kernelspec": {
   "display_name": "Python 3",
   "language": "python",
   "name": "python3"
  },
  "language_info": {
   "codemirror_mode": {
    "name": "ipython",
    "version": 3
   },
   "file_extension": ".py",
   "mimetype": "text/x-python",
   "name": "python",
   "nbconvert_exporter": "python",
   "pygments_lexer": "ipython3",
   "version": "3.10.17"
  }
 },
 "nbformat": 4,
 "nbformat_minor": 5
}
